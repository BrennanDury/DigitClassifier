{
 "cells": [
  {
   "cell_type": "code",
   "execution_count": null,
   "id": "0dbf0b6f",
   "metadata": {},
   "outputs": [],
   "source": [
    "import tensorflow as tf\n",
    "from tensorflow import keras\n",
    "\n",
    "(X_train, y_train), (X_test, y_test) = keras.datasets.mnist.load_data()\n",
    "X_train.shape, y_train.shape"
   ]
  },
  {
   "cell_type": "code",
   "execution_count": null,
   "id": "5890e95d",
   "metadata": {},
   "outputs": [],
   "source": [
    "from sklearn.model_selection import train_test_split\n",
    "\n",
    "X_train, X_valid, y_train, y_valid = train_test_split(X_train, y_train)\n",
    "\n",
    "X_train = X_train / 255\n",
    "X_valid = X_valid / 255\n",
    "X_test = X_test / 255"
   ]
  },
  {
   "cell_type": "code",
   "execution_count": null,
   "id": "4bbbdcec",
   "metadata": {},
   "outputs": [],
   "source": [
    "X_train.shape, y_train.shape, X_valid.shape, y_train.shape, "
   ]
  },
  {
   "cell_type": "code",
   "execution_count": null,
   "id": "ea87ccee",
   "metadata": {},
   "outputs": [],
   "source": [
    "def build_model(n_hidden=1, n_neurons=30, learning_rate=3e-3):\n",
    "    model = keras.models.Sequential()\n",
    "    model.add(keras.layers.Flatten(input_shape=[28, 28]))\n",
    "    for layer in range(n_hidden):\n",
    "        model.add(keras.layers.Dense(n_neurons, activation='relu'))\n",
    "    model.add(keras.layers.Dense(10, activation='softmax'))\n",
    "    optimizer = keras.optimizers.SGD(learning_rate=learning_rate)\n",
    "    model.compile(loss='sparse_categorical_crossentropy',\n",
    "                  optimizer=optimizer,\n",
    "                  metrics=['accuracy'])\n",
    "    return model"
   ]
  },
  {
   "cell_type": "code",
   "execution_count": null,
   "id": "f618ea72",
   "metadata": {},
   "outputs": [],
   "source": [
    "from scipy.stats import loguniform\n",
    "from sklearn.model_selection import RandomizedSearchCV\n",
    "\n",
    "rough_model = keras.wrappers.scikit_learn.KerasClassifier(build_model)\n",
    "\n",
    "rough_params = {\n",
    "    'n_neurons' : list(range(100, 1000)),\n",
    "    'n_hidden' : [2, 3, 4],\n",
    "    'learning_rate' : loguniform(10 ** -3, 1)\n",
    "}\n",
    "\n",
    "rough_search = RandomizedSearchCV(rough_model, rough_params, n_iter=100, cv=2)\n",
    "rough_search.fit(X_train, y_train, epochs=10000,\n",
    "           validation_data=(X_valid, y_valid),\n",
    "           callbacks=[keras.callbacks.EarlyStopping(patience=10)])"
   ]
  },
  {
   "cell_type": "code",
   "execution_count": null,
   "id": "17c1f144",
   "metadata": {
    "scrolled": true
   },
   "outputs": [],
   "source": [
    "rough_search.best_params_ # {'learning_rate': 0.2832557832529829, 'n_hidden': 3, 'n_neurons': 653}"
   ]
  },
  {
   "cell_type": "code",
   "execution_count": null,
   "id": "8f20b4b8",
   "metadata": {},
   "outputs": [],
   "source": [
    "rough_search.best_score_ # 0.9781555533409119"
   ]
  },
  {
   "cell_type": "code",
   "execution_count": null,
   "id": "5693e1e5",
   "metadata": {},
   "outputs": [],
   "source": [
    "model = keras.wrappers.scikit_learn.KerasClassifier(build_model)\n",
    "\n",
    "params = {\n",
    "    'n_neurons' : [653],\n",
    "    'n_hidden' : [3],\n",
    "    'learning_rate' : loguniform(.1, 1)\n",
    "}\n",
    "\n",
    "search = RandomizedSearchCV(model, params, n_iter=100, cv=2)\n",
    "search.fit(X_train, y_train, epochs=10000,\n",
    "           validation_data=(X_valid, y_valid),\n",
    "           callbacks=[keras.callbacks.EarlyStopping(patience=10)])"
   ]
  },
  {
   "cell_type": "code",
   "execution_count": null,
   "id": "e012bee5",
   "metadata": {},
   "outputs": [],
   "source": [
    "search.best_params_ # {'learning_rate': 0.39166291079800697, 'n_hidden': 3, 'n_neurons': 653}"
   ]
  },
  {
   "cell_type": "code",
   "execution_count": null,
   "id": "a9cca43f",
   "metadata": {},
   "outputs": [],
   "source": [
    "search.best_score_ # 0.9782000184059143"
   ]
  }
 ],
 "metadata": {
  "kernelspec": {
   "display_name": "Python 3 (ipykernel)",
   "language": "python",
   "name": "python3"
  },
  "language_info": {
   "codemirror_mode": {
    "name": "ipython",
    "version": 3
   },
   "file_extension": ".py",
   "mimetype": "text/x-python",
   "name": "python",
   "nbconvert_exporter": "python",
   "pygments_lexer": "ipython3",
   "version": "3.9.6"
  }
 },
 "nbformat": 4,
 "nbformat_minor": 5
}
