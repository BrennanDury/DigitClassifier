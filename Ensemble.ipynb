{
 "cells": [
  {
   "cell_type": "code",
   "execution_count": 1,
   "id": "8226dc2a",
   "metadata": {},
   "outputs": [],
   "source": [
    "from sklearn.datasets import fetch_openml\n",
    "\n",
    "mnist = fetch_openml('mnist_784', version=1, as_frame=False)\n",
    "X, Y = mnist['data'], mnist['target']"
   ]
  },
  {
   "cell_type": "code",
   "execution_count": 2,
   "id": "8dad1566",
   "metadata": {},
   "outputs": [],
   "source": [
    "import numpy as np\n",
    "from scipy.ndimage.interpolation import shift\n",
    "\n",
    "def add_shifts(X, Y, width, height, distance = 1):\n",
    "    side = (2 * distance) + 1\n",
    "    area = side ** 2\n",
    "    expanded_X = np.repeat(X, area, axis=0)\n",
    "    expanded_Y = np.repeat(Y, area)\n",
    "    for index in range(len(expanded_X)):\n",
    "        vertical =  ((index % area) // side) - 1\n",
    "        horizontal = (index % side) - 1\n",
    "        image = expanded_X[index]\n",
    "        shifted_image = shift(image.reshape(height, width), [vertical, horizontal], cval=0, order=0, prefilter=False).reshape(height * width)\n",
    "        expanded_X[index] = shifted_image\n",
    "    return expanded_X, expanded_Y"
   ]
  },
  {
   "cell_type": "code",
   "execution_count": 3,
   "id": "ca1b5b17",
   "metadata": {},
   "outputs": [
    {
     "data": {
      "text/plain": [
       "((540000, 784), (540000,))"
      ]
     },
     "execution_count": 3,
     "metadata": {},
     "output_type": "execute_result"
    }
   ],
   "source": [
    "X_train, X_test, Y_train, Y_test = X[:60000], X[60000:], Y[:60000], Y[60000:]\n",
    "X_train_augmented, Y_train_augmented = add_shifts(X_train, Y_train, width=28, height=28)\n",
    "X_train_augmented.shape, Y_train_augmented.shape #((540000, 784), (540000,))\n"
   ]
  },
  {
   "cell_type": "code",
   "execution_count": 5,
   "id": "eae2f415",
   "metadata": {},
   "outputs": [],
   "source": [
    "X_train_level0, X_holdout, Y_train_level0, Y_holdout = \\\n",
    "    X_train_augmented[:459000], X_train_augmented[459000:], \\\n",
    "    Y_train_augmented[:459000], Y_train_augmented[459000:] "
   ]
  },
  {
   "cell_type": "code",
   "execution_count": 23,
   "id": "3173fad2",
   "metadata": {},
   "outputs": [
    {
     "data": {
      "text/plain": [
       "KNeighborsClassifier(n_jobs=-1)"
      ]
     },
     "execution_count": 23,
     "metadata": {},
     "output_type": "execute_result"
    }
   ],
   "source": [
    "from sklearn.neighbors import KNeighborsClassifier\n",
    "\n",
    "knn = KNeighborsClassifier(n_jobs=-1)\n",
    "knn.fit(X_train_level0, Y_train_level0)"
   ]
  },
  {
   "cell_type": "code",
   "execution_count": 22,
   "id": "c6d11d08",
   "metadata": {},
   "outputs": [
    {
     "data": {
      "text/plain": [
       "RandomForestClassifier(n_jobs=-1, random_state=42)"
      ]
     },
     "execution_count": 22,
     "metadata": {},
     "output_type": "execute_result"
    }
   ],
   "source": [
    "from sklearn.ensemble import RandomForestClassifier\n",
    "\n",
    "forest = RandomForestClassifier(n_jobs=-1, random_state=42)\n",
    "forest.fit(X_train_level0, Y_train_level0)"
   ]
  },
  {
   "cell_type": "code",
   "execution_count": 25,
   "id": "b467dee7",
   "metadata": {},
   "outputs": [
    {
     "data": {
      "text/plain": [
       "Pipeline(steps=[('scaler', StandardScaler()),\n",
       "                ('svc',\n",
       "                 SVC(C=0.17670169402947947, degree=2,\n",
       "                     gamma=0.012606912518374066, kernel='poly',\n",
       "                     random_state=42))])"
      ]
     },
     "execution_count": 25,
     "metadata": {},
     "output_type": "execute_result"
    }
   ],
   "source": [
    "from sklearn.pipeline import Pipeline\n",
    "from sklearn.preprocessing import StandardScaler\n",
    "from sklearn.svm import SVC\n",
    "\n",
    "svc = Pipeline([\n",
    "    ('scaler', StandardScaler()),\n",
    "    ('svc', SVC(kernel='poly', degree=2, C=0.17670169402947947,\n",
    "    gamma=0.012606912518374066, probability=True, random_state=42))\n",
    "]) # These are the best hyperparameters found in the SVM Tuning notebook\n",
    "# on the unaugmented data\n",
    "svc_pipeline.fit(X_train_level0, Y_train_level0)"
   ]
  },
  {
   "cell_type": "code",
   "execution_count": 32,
   "id": "58b7edaa",
   "metadata": {},
   "outputs": [
    {
     "data": {
      "text/plain": [
       "array([[7., 7., 7.],\n",
       "       [7., 7., 7.],\n",
       "       [7., 7., 7.],\n",
       "       ...,\n",
       "       [8., 8., 8.],\n",
       "       [8., 8., 8.],\n",
       "       [8., 8., 8.]])"
      ]
     },
     "execution_count": 32,
     "metadata": {},
     "output_type": "execute_result"
    }
   ],
   "source": [
    "level_0 = [knn, forest, svc]\n",
    "predictions_matrix = np.zeros((81000, 3))\n",
    "for i, model in enumerate(level_0):\n",
    "    predictions_matrix[:,i] = model.predict(X_holdout)\n",
    "predictions_matrix \n",
    "# array([[7., 7., 7.],\n",
    "#       [7., 7., 7.],\n",
    "#       [7., 7., 7.],\n",
    "#       ...,\n",
    "#       [8., 8., 8.],\n",
    "#       [8., 8., 8.],\n",
    "#       [8., 8., 8.]])"
   ]
  },
  {
   "cell_type": "code",
   "execution_count": 39,
   "id": "c7ca14c5",
   "metadata": {},
   "outputs": [
    {
     "data": {
      "text/plain": [
       "(81000, 3)"
      ]
     },
     "execution_count": 39,
     "metadata": {},
     "output_type": "execute_result"
    }
   ],
   "source": [
    "predictions_matrix.shape # (81000, 3)"
   ]
  },
  {
   "cell_type": "code",
   "execution_count": 35,
   "id": "838cdd26",
   "metadata": {},
   "outputs": [
    {
     "data": {
      "text/plain": [
       "LogisticRegression(max_iter=1000, n_jobs=-1, solver='saga')"
      ]
     },
     "execution_count": 35,
     "metadata": {},
     "output_type": "execute_result"
    }
   ],
   "source": [
    "from sklearn.linear_model import LogisticRegression\n",
    "\n",
    "lr = LogisticRegression(n_jobs=-1, solver='saga', max_iter=1000)\n",
    "lr.fit(predictions_matrix, Y_holdout)"
   ]
  },
  {
   "cell_type": "code",
   "execution_count": 43,
   "id": "bd23b95d",
   "metadata": {},
   "outputs": [
    {
     "data": {
      "text/plain": [
       "0.9678"
      ]
     },
     "execution_count": 43,
     "metadata": {},
     "output_type": "execute_result"
    }
   ],
   "source": [
    "from sklearn.metrics import accuracy_score\n",
    "\n",
    "predictions_matrix_test = np.zeros((10000, 3))\n",
    "for i, model in enumerate(level_0):\n",
    "    predictions_matrix_test[:,i] = model.predict(X_test)\n",
    "predictions = lr.predict(predictions_matrix_test)\n",
    "accuracy = accuracy_score(Y_test, predictions)\n",
    "accuracy # 0.9678 \n",
    "# the blender underperforms the individual models"
   ]
  },
  {
   "cell_type": "code",
   "execution_count": 48,
   "id": "a3f3b584",
   "metadata": {},
   "outputs": [
    {
     "data": {
      "text/plain": [
       "0.974"
      ]
     },
     "execution_count": 48,
     "metadata": {},
     "output_type": "execute_result"
    }
   ],
   "source": [
    "knn_pred = knn.predict(X_test)\n",
    "knn_accuracy = accuracy_score(Y_test, knn_pred)\n",
    "knn_accuracy # 0.974"
   ]
  },
  {
   "cell_type": "code",
   "execution_count": 49,
   "id": "46c7de0c",
   "metadata": {},
   "outputs": [
    {
     "data": {
      "text/plain": [
       "0.9802"
      ]
     },
     "execution_count": 49,
     "metadata": {},
     "output_type": "execute_result"
    }
   ],
   "source": [
    "forest_pred = forest.predict(X_test)\n",
    "forest_accuracy = accuracy_score(Y_test, forest_pred)\n",
    "forest_accuracy # 0.9802"
   ]
  },
  {
   "cell_type": "code",
   "execution_count": 52,
   "id": "f26292d0",
   "metadata": {},
   "outputs": [
    {
     "data": {
      "text/plain": [
       "0.9839"
      ]
     },
     "execution_count": 52,
     "metadata": {},
     "output_type": "execute_result"
    }
   ],
   "source": [
    "svc_pred = svc.predict(X_test)\n",
    "svc_accuracy = accuracy_score(Y_test, svc_pred)\n",
    "svc_accuracy # 0.9839"
   ]
  },
  {
   "cell_type": "code",
   "execution_count": 80,
   "id": "1190317e",
   "metadata": {
    "scrolled": true
   },
   "outputs": [
    {
     "data": {
      "text/plain": [
       "ExtraTreesClassifier(n_jobs=-1, random_state=42)"
      ]
     },
     "execution_count": 80,
     "metadata": {},
     "output_type": "execute_result"
    }
   ],
   "source": [
    "from sklearn.ensemble import ExtraTreesClassifier\n",
    "\n",
    "extra = ExtraTreesClassifier(n_jobs=-1, random_state=42)\n",
    "extra.fit(X_train, Y_train)"
   ]
  },
  {
   "cell_type": "code",
   "execution_count": 88,
   "id": "92491055",
   "metadata": {},
   "outputs": [
    {
     "data": {
      "text/plain": [
       "0.9891"
      ]
     },
     "execution_count": 88,
     "metadata": {},
     "output_type": "execute_result"
    }
   ],
   "source": [
    "# The blender was disappointing, let's try a normal voting classifier,\n",
    "# add an extra random forest to add diversity, and\n",
    "# add the augmented data from the Translation notebook.\n",
    "from sklearn.ensemble import VotingClassifier\n",
    "\n",
    "ensemble = VotingClassifier(estimators=[('1', knn), ('2', forest), ('3', extra), ('4', svc)],\n",
    "                        voting='soft',\n",
    "                        n_jobs=-1)\n",
    "ensemble.fit(X_train_augmented, Y_train_augmented)\n",
    "soft_pred = ensemble.predict(X_test)\n",
    "soft_accuracy = accuracy_score(Y_test, soft_pred)\n",
    "soft_accuracy # 0.9891 This is the best performing model"
   ]
  },
  {
   "cell_type": "code",
   "execution_count": 90,
   "id": "6fd80608",
   "metadata": {},
   "outputs": [
    {
     "data": {
      "text/plain": [
       "0.9861"
      ]
     },
     "execution_count": 90,
     "metadata": {},
     "output_type": "execute_result"
    }
   ],
   "source": [
    "ensemble.voting = 'hard'\n",
    "hard_pred = ensemble.predict(X_test)\n",
    "hard_accuracy = accuracy_score(Y_test, hard_pred)\n",
    "hard_accuracy # 0.9861"
   ]
  }
 ],
 "metadata": {
  "kernelspec": {
   "display_name": "Python 3 (ipykernel)",
   "language": "python",
   "name": "python3"
  },
  "language_info": {
   "codemirror_mode": {
    "name": "ipython",
    "version": 3
   },
   "file_extension": ".py",
   "mimetype": "text/x-python",
   "name": "python",
   "nbconvert_exporter": "python",
   "pygments_lexer": "ipython3",
   "version": "3.9.6"
  }
 },
 "nbformat": 4,
 "nbformat_minor": 5
}
