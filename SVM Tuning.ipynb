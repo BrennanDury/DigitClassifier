{
 "cells": [
  {
   "cell_type": "code",
   "execution_count": null,
   "id": "5a60f230",
   "metadata": {},
   "outputs": [],
   "source": [
    "from sklearn.datasets import fetch_openml\n",
    "\n",
    "mnist = fetch_openml('mnist_784', version=1, as_frame=False)\n",
    "X, Y = mnist['data'], mnist['target']"
   ]
  },
  {
   "cell_type": "code",
   "execution_count": null,
   "id": "7c7f8e7f",
   "metadata": {},
   "outputs": [],
   "source": [
    "X.shape, Y.shape"
   ]
  },
  {
   "cell_type": "code",
   "execution_count": null,
   "id": "c359bddd",
   "metadata": {},
   "outputs": [],
   "source": [
    "X_train, X_mini, X_test, Y_train, Y_mini, Y_test = X[:60000], X[:1000], X[60000:], Y[:60000], Y[:1000], Y[60000:]\n"
   ]
  },
  {
   "cell_type": "code",
   "execution_count": null,
   "id": "14b22106",
   "metadata": {
    "scrolled": true
   },
   "outputs": [],
   "source": [
    "from sklearn.experimental import enable_halving_search_cv\n",
    "from sklearn.model_selection import HalvingGridSearchCV\n",
    "from sklearn.preprocessing import StandardScaler\n",
    "from sklearn.svm import SVC\n",
    "\n",
    "scaler = StandardScaler()\n",
    "X_mini_scaled = scaler.fit_transform(X_mini)\n",
    "\n",
    "halving_params = [{\n",
    "    'kernel' : ['poly'],\n",
    "    'degree' : [1, 2, 3, 4, 5],\n",
    "    'gamma' : [0.01, 0.1, 1, 10, 100],\n",
    "    'C' : [0.01, 0.1, 1, 10, 100, 1000]\n",
    "    },\n",
    "    {\n",
    "    'kernel' : ['rbf'],\n",
    "    'gamma' : [0.01, 0.1, 1, 10, 100],\n",
    "    'C' : [0.01, 0.1, 1, 10, 100, 1000]\n",
    "}]\n",
    "\n",
    "halving_model = SVC()\n",
    "\n",
    "halving_cv = HalvingGridSearchCV(halving_model, halving_params,\n",
    "                    random_state=42,\n",
    "                    n_jobs=-1)\n",
    "halving_cv.fit(X_mini_scaled, Y_mini)\n",
    "halving_cv.best_params_ # {'C': 0.01, 'degree': 1, 'gamma': 1, 'kernel': 'poly'}\n",
    "# The best models are all linear, but using a small amount of data\n",
    "# and using iterative halving search may favor a linear model"
   ]
  },
  {
   "cell_type": "code",
   "execution_count": null,
   "id": "dc2a8ede",
   "metadata": {},
   "outputs": [],
   "source": [
    "from sklearn.model_selection import RandomizedSearchCV\n",
    "\n",
    "# Hyperparameter space of one order of magnitude above and below\n",
    "# optimal hyperparameters from wide search including ties found\n",
    "# in the results\n",
    "\n",
    "linear_params = {\n",
    "    'C' : loguniform(0.001, 10),\n",
    "    'gamma' : loguniform(0.001, 10)\n",
    "}\n",
    "\n",
    "linear_model = SVC(kernel='poly', degree=1)\n",
    "\n",
    "linear_cv = RandomizedSearchCV(linear_model, linear_params,\n",
    "                    random_state=42,\n",
    "                    n_iter=10000,\n",
    "                    n_jobs=-1)\n",
    "linear_cv.fit(X_mini_scaled, Y_mini)\n",
    "linear_cv.best_params_\n",
    "# {'C': 0.0124801809651176, 'gamma': 0.16470698221724311}"
   ]
  },
  {
   "cell_type": "code",
   "execution_count": null,
   "id": "214b1376",
   "metadata": {
    "scrolled": true
   },
   "outputs": [],
   "source": [
    "from sklearn.pipeline import Pipeline\n",
    "from sklearn.metrics import accuracy_score\n",
    "\n",
    "default_linear_pipeline = Pipeline([\n",
    "    ('scaler', StandardScaler()),\n",
    "    ('svc', SVC(kernel='poly', degree=1, random_state=42))\n",
    "])\n",
    "\n",
    "default_linear_pipeline.fit(X_train, Y_train)\n",
    "default_linear_predictions = default_linear_pipeline.predict(X_test)\n",
    "default_linear_accuracy = accuracy_score(Y_test, default_linear_predictions)\n",
    "default_linear_accuracy # 0.9452"
   ]
  },
  {
   "cell_type": "code",
   "execution_count": null,
   "id": "3bf4c201",
   "metadata": {
    "scrolled": true
   },
   "outputs": [],
   "source": [
    "best_linear_pipeline = Pipeline([\n",
    "    ('scaler', StandardScaler()),\n",
    "    ('svc', SVC(kernel='poly', degree=1, C=0.0124801809651176, gamma=0.16470698221724311, random_state=42))\n",
    "])\n",
    "\n",
    "best_linear_pipeline.fit(X_train, Y_train)\n",
    "best_linear_predictions = best_linear_pipeline.predict(X_test)\n",
    "best_linear_accuracy = accuracy_score(Y_test, best_linear_predictions)\n",
    "best_linear_accuracy # 0.9462"
   ]
  },
  {
   "cell_type": "code",
   "execution_count": null,
   "id": "d6337a86",
   "metadata": {
    "scrolled": true
   },
   "outputs": [],
   "source": [
    "from sklearn.model_selection import GridSearchCV\n",
    "\n",
    "wide_params = {\n",
    "    'gamma' : [10 ** n for n in range(-3, 4)],\n",
    "    'C' : [10 ** n for n in range(-3, 4)]\n",
    "}\n",
    "wide_model = SVC(kernel='rbf')\n",
    "\n",
    "wide_cv = GridSearchCV(wide_model, wide_params,\n",
    "                    n_jobs=-1,\n",
    "                    cv=3)\n",
    "wide_cv.fit(X_mini_scaled, Y_mini)\n",
    "wide_cv.best_params_\n",
    "# {'C': 10, 'gamma': 0.001}"
   ]
  },
  {
   "cell_type": "code",
   "execution_count": null,
   "id": "850e23d7",
   "metadata": {},
   "outputs": [],
   "source": [
    "# Hyperparameter space of one order of magnitude above and below\n",
    "# optimal hyperparameters from wide search including ties found\n",
    "# in the results\n",
    "narrow_params = {\n",
    "    'gamma' : loguniform(.0001, 0.01),\n",
    "    'C' : loguniform(1, 10000)\n",
    "}\n",
    "narrow_model = SVC(kernel='rbf')\n",
    "\n",
    "narrow_cv = RandomizedSearchCV(narrow_model, narrow_params,\n",
    "                    n_jobs=-1,\n",
    "                    cv=3,\n",
    "                    random_state=42,\n",
    "                    n_iter=10000)\n",
    "narrow_cv.fit(X_mini_scaled, Y_mini)\n",
    "narrow_cv.best_params_\n",
    "# {'C': 10.412771143213734, 'gamma': 0.0005293052314471038}"
   ]
  },
  {
   "cell_type": "code",
   "execution_count": null,
   "id": "a2bb514a",
   "metadata": {},
   "outputs": [],
   "source": [
    "rbf_default_pipeline = Pipeline([\n",
    "    ('scaler', StandardScaler()),\n",
    "    ('svc', SVC(kernel='rbf', random_state=42))\n",
    "])\n",
    "\n",
    "rbf_default_pipeline.fit(X_train, Y_train)\n",
    "rbf_default_predictions = rbf_default_pipeline.predict(X_test)\n",
    "rbf_default_accuracy = accuracy_score(Y_test, rbf_default_predictions)\n",
    "rbf_default_accuracy # 0.966"
   ]
  },
  {
   "cell_type": "code",
   "execution_count": null,
   "id": "b05ce69f",
   "metadata": {},
   "outputs": [],
   "source": [
    "rbf_best_pipeline = Pipeline([\n",
    "    ('scaler', StandardScaler()),\n",
    "    ('svc', SVC(kernel='rbf', C=10.412771143213734, gamma=0.0005293052314471038, random_state=42))\n",
    "])\n",
    "\n",
    "rbf_best_pipeline.fit(X_train, Y_train)\n",
    "rbf_best_predictions = rbf_best_pipeline.predict(X_test)\n",
    "rbf_best_accuracy = accuracy_score(Y_test, rbf_best_predictions)\n",
    "rbf_best_accuracy # 0.9716"
   ]
  },
  {
   "cell_type": "code",
   "execution_count": null,
   "id": "c6a37485",
   "metadata": {},
   "outputs": [],
   "source": [
    "random_params = {\n",
    "    'degree' : [2, 3, 4, 5],\n",
    "    'gamma' : loguniform(0.001, 1000),\n",
    "    'C' : loguniform(0.001, 1000)\n",
    "}\n",
    "random_model = SVC(kernel='poly')\n",
    "\n",
    "random_cv = RandomizedSearchCV(random_model, random_params,\n",
    "                    n_iter=10000,\n",
    "                    random_state=42,\n",
    "                    n_jobs=-1,\n",
    "                    cv=3)\n",
    "random_cv.fit(X_mini_scaled, Y_mini)\n",
    "random_cv.best_params_\n",
    "# {'C': 0.17670169402947947, 'degree': 2, 'gamma': 0.012606912518374066}"
   ]
  },
  {
   "cell_type": "code",
   "execution_count": null,
   "id": "c61788be",
   "metadata": {},
   "outputs": [],
   "source": [
    "default_poly_pipeline = Pipeline([\n",
    "    ('scaler', StandardScaler()),\n",
    "    ('svc', SVC(kernel='poly', degree=2, C=1, random_state=42))\n",
    "])\n",
    "\n",
    "default_poly_pipeline.fit(X_train, Y_train)\n",
    "default_poly_predictions = default_poly_pipeline.predict(X_test)\n",
    "default_poly_accuracy = accuracy_score(Y_test, default_poly_predictions)\n",
    "default_poly_accuracy # 0.9714"
   ]
  },
  {
   "cell_type": "code",
   "execution_count": null,
   "id": "fbc262ab",
   "metadata": {
    "scrolled": true
   },
   "outputs": [],
   "source": [
    "poly_best_pipeline = Pipeline([\n",
    "    ('scaler', StandardScaler()),\n",
    "    ('svc', SVC(kernel='poly', degree=2, C=0.17670169402947947, gamma=0.012606912518374066, random_state=42))\n",
    "])\n",
    "\n",
    "poly_best_pipeline.fit(X_train, Y_train)\n",
    "poly_best_predictions = poly_best_pipeline.predict(X_test)\n",
    "poly_best_accuracy = accuracy_score(Y_test, poly_best_predictions)\n",
    "poly_best_accuracy # 0.9765"
   ]
  },
  {
   "cell_type": "code",
   "execution_count": null,
   "id": "2a3d2bd6",
   "metadata": {},
   "outputs": [],
   "source": [
    "def add_shifts(X, Y, width, height, distance = 1):\n",
    "    side = (2 * distance) + 1\n",
    "    area = side ** 2\n",
    "    expanded_X = np.repeat(X, area, axis=0)\n",
    "    expanded_Y = np.repeat(Y, area)\n",
    "    for index in range(len(expanded_X)):\n",
    "        vertical =  ((index % area) // side) - 1\n",
    "        horizontal = (index % side) - 1\n",
    "        image = expanded_X[index]\n",
    "        shifted_image = shift(image.reshape(height, width), [vertical, horizontal], cval=0, order=0, prefilter=False).reshape(height * width)\n",
    "        expanded_X[index] = shifted_image\n",
    "    return expanded_X, expanded_Y"
   ]
  },
  {
   "cell_type": "code",
   "execution_count": null,
   "id": "28813fcb",
   "metadata": {},
   "outputs": [],
   "source": [
    "X_train_augmented, Y_train_augmented = add_shifts(X_train, Y_train, width=28, height=28)\n",
    "\n",
    "augmented_pipeline = Pipeline([\n",
    "    ('scaler', StandardScaler()),\n",
    "    ('svc', SVC(kernel='poly', degree=2, random_state=42))\n",
    "])\n",
    "\n",
    "augmented_pipeline.fit(X_train_augmented, Y_train_augmented)\n",
    "augmented_predictions = augmented_pipeline.predict(X_test)\n",
    "augmented_accuracy = accuracy_score(Y_test, augmented_predictions)\n",
    "augmented_accuracy # 0.9845"
   ]
  },
  {
   "cell_type": "code",
   "execution_count": null,
   "id": "189effa7",
   "metadata": {},
   "outputs": [],
   "source": [
    "poly_translate_pipeline = Pipeline([\n",
    "    ('scaler', StandardScaler()),\n",
    "    ('svc', SVC(kernel='poly', degree=2, random_state=42))\n",
    "])\n",
    "\n",
    "poly_translate_params = {\n",
    "    'svc__gamma' : loguniform(10 ** -5, 10 ** 5),\n",
    "    'svc__C' : loguniform(10 ** -5, 10 ** 5),\n",
    "}\n",
    "\n",
    "poly_translate_cv = HalvingRandomSearchCV(poly_translate_pipeline, poly_translate_params,\n",
    "                    random_state=42,\n",
    "                    n_jobs=-1,\n",
    "                    cv=2)\n",
    "poly_translate_cv.fit(X_train_augmented, Y_train_augmented)\n",
    "poly_translate_cv.best_params_ # {'svc__C': 35371.44537353213, 'svc__gamma': 239.31458473007902}"
   ]
  },
  {
   "cell_type": "code",
   "execution_count": null,
   "id": "94ab99fe",
   "metadata": {},
   "outputs": [],
   "source": [
    "best_augmented_predictions = poly_translate_cv.best_estimator_.predict(X_test)\n",
    "best_augmented_accuracy = accuracy_score(Y_test, best_augmented_predictions)\n",
    "best_augmented_accuracy # 0.9845 same as default"
   ]
  },
  {
   "cell_type": "code",
   "execution_count": null,
   "id": "14fd97e9",
   "metadata": {},
   "outputs": [],
   "source": []
  }
 ],
 "metadata": {
  "kernelspec": {
   "display_name": "Python 3 (ipykernel)",
   "language": "python",
   "name": "python3"
  },
  "language_info": {
   "codemirror_mode": {
    "name": "ipython",
    "version": 3
   },
   "file_extension": ".py",
   "mimetype": "text/x-python",
   "name": "python",
   "nbconvert_exporter": "python",
   "pygments_lexer": "ipython3",
   "version": "3.9.6"
  }
 },
 "nbformat": 4,
 "nbformat_minor": 5
}
